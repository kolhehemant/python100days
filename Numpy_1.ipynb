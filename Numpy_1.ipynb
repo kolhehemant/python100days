{
  "nbformat": 4,
  "nbformat_minor": 0,
  "metadata": {
    "colab": {
      "provenance": [],
      "authorship_tag": "ABX9TyMasBiAgLm5lQUXK3UUIDli",
      "include_colab_link": true
    },
    "kernelspec": {
      "name": "python3",
      "display_name": "Python 3"
    },
    "language_info": {
      "name": "python"
    }
  },
  "cells": [
    {
      "cell_type": "markdown",
      "metadata": {
        "id": "view-in-github",
        "colab_type": "text"
      },
      "source": [
        "<a href=\"https://colab.research.google.com/github/kolhehemant/python100days/blob/master/Numpy_1.ipynb\" target=\"_parent\"><img src=\"https://colab.research.google.com/assets/colab-badge.svg\" alt=\"Open In Colab\"/></a>"
      ]
    },
    {
      "cell_type": "code",
      "source": [
        "%matplotlib notebook\n",
        "%matplotlib inline\n",
        "import matplotlib.pyplot as plt\n",
        "import numpy as np"
      ],
      "metadata": {
        "id": "M-X7t1V1K_3l"
      },
      "execution_count": 11,
      "outputs": []
    },
    {
      "cell_type": "code",
      "source": [],
      "metadata": {
        "id": "-pgjnoWdZr7l"
      },
      "execution_count": null,
      "outputs": []
    },
    {
      "cell_type": "code",
      "source": [
        "np"
      ],
      "metadata": {
        "colab": {
          "base_uri": "https://localhost:8080/"
        },
        "id": "NS4VS-ldK__S",
        "outputId": "51265619-8a70-4d09-af6d-fdc64ca495af"
      },
      "execution_count": 12,
      "outputs": [
        {
          "output_type": "execute_result",
          "data": {
            "text/plain": [
              "<module 'numpy' from '/usr/local/lib/python3.10/dist-packages/numpy/__init__.py'>"
            ]
          },
          "metadata": {},
          "execution_count": 12
        }
      ]
    },
    {
      "cell_type": "code",
      "source": [
        "arr = np.array([1,2,3])\n",
        "arr\n",
        "type(arr)"
      ],
      "metadata": {
        "colab": {
          "base_uri": "https://localhost:8080/"
        },
        "id": "O6bVeZ4aLNMJ",
        "outputId": "07ddb413-7e73-4a3b-b86d-a3b07e9222fa"
      },
      "execution_count": 15,
      "outputs": [
        {
          "output_type": "execute_result",
          "data": {
            "text/plain": [
              "numpy.ndarray"
            ]
          },
          "metadata": {},
          "execution_count": 15
        }
      ]
    },
    {
      "cell_type": "code",
      "source": [
        "arr += 2\n",
        "arr"
      ],
      "metadata": {
        "colab": {
          "base_uri": "https://localhost:8080/"
        },
        "id": "mqYVhGjlPRtc",
        "outputId": "415d2806-984d-4f76-cd19-fa2656167340"
      },
      "execution_count": 16,
      "outputs": [
        {
          "output_type": "execute_result",
          "data": {
            "text/plain": [
              "array([3, 4, 5])"
            ]
          },
          "metadata": {},
          "execution_count": 16
        }
      ]
    },
    {
      "cell_type": "code",
      "source": [
        "arr = np.random.random((4,3) )\n",
        "arr\n",
        "arr.reshape(6,2)"
      ],
      "metadata": {
        "colab": {
          "base_uri": "https://localhost:8080/"
        },
        "id": "jAJowENhPabb",
        "outputId": "3eed9dfa-a792-4546-f91e-792bb9edee74"
      },
      "execution_count": 21,
      "outputs": [
        {
          "output_type": "execute_result",
          "data": {
            "text/plain": [
              "array([[0.68064671, 0.84126289],\n",
              "       [0.45962806, 0.12136397],\n",
              "       [0.63371737, 0.82587323],\n",
              "       [0.52255879, 0.60905803],\n",
              "       [0.06171293, 0.58424595],\n",
              "       [0.55342109, 0.51302234]])"
            ]
          },
          "metadata": {},
          "execution_count": 21
        }
      ]
    },
    {
      "cell_type": "code",
      "source": [
        "arr = np.arange(1,10,3)\n",
        "arr"
      ],
      "metadata": {
        "colab": {
          "base_uri": "https://localhost:8080/"
        },
        "id": "b_FwldvKP68Z",
        "outputId": "980ec664-8aea-4a70-bb80-f9d00447b144"
      },
      "execution_count": 26,
      "outputs": [
        {
          "output_type": "execute_result",
          "data": {
            "text/plain": [
              "array([1, 4, 7])"
            ]
          },
          "metadata": {},
          "execution_count": 26
        }
      ]
    },
    {
      "cell_type": "code",
      "source": [
        "arr = np.linspace(1,20,4)\n",
        "arr"
      ],
      "metadata": {
        "colab": {
          "base_uri": "https://localhost:8080/"
        },
        "id": "e77No1RrQTWy",
        "outputId": "d8fd88be-fe5e-42d1-cfb4-8c718fd7c3d7"
      },
      "execution_count": 38,
      "outputs": [
        {
          "output_type": "execute_result",
          "data": {
            "text/plain": [
              "array([ 1.        ,  7.33333333, 13.66666667, 20.        ])"
            ]
          },
          "metadata": {},
          "execution_count": 38
        }
      ]
    },
    {
      "cell_type": "code",
      "source": [
        "arr1 = [[1,2,3] , [4,5,6] , [7,8,9]]\n",
        "arr2 = [[10,11,12] , [14,15,16] , [17,18,19]]\n",
        "arr3 = np.array(arr1) + np.array(arr2)\n",
        "print(arr3)\n",
        "arr3_flatten = arr3.flatten()\n",
        "arr3_flatten\n",
        "\n"
      ],
      "metadata": {
        "colab": {
          "base_uri": "https://localhost:8080/"
        },
        "id": "7PN0N0zbQ_AC",
        "outputId": "36c92f00-cbcc-47db-8d64-f3e926c18132"
      },
      "execution_count": 53,
      "outputs": [
        {
          "output_type": "stream",
          "name": "stdout",
          "text": [
            "[[11 13 15]\n",
            " [18 20 22]\n",
            " [24 26 28]]\n"
          ]
        },
        {
          "output_type": "execute_result",
          "data": {
            "text/plain": [
              "array([11, 13, 15, 18, 20, 22, 24, 26, 28])"
            ]
          },
          "metadata": {},
          "execution_count": 53
        }
      ]
    },
    {
      "cell_type": "code",
      "source": [],
      "metadata": {
        "id": "TzNogfYGqOPq"
      },
      "execution_count": null,
      "outputs": []
    },
    {
      "cell_type": "code",
      "source": [
        "arr3[1:2,1:2]"
      ],
      "metadata": {
        "colab": {
          "base_uri": "https://localhost:8080/"
        },
        "id": "yZq1aBZxZX0l",
        "outputId": "82de6ebc-e66c-424f-f9fa-924b08765a99"
      },
      "execution_count": 58,
      "outputs": [
        {
          "output_type": "execute_result",
          "data": {
            "text/plain": [
              "array([[20]])"
            ]
          },
          "metadata": {},
          "execution_count": 58
        }
      ]
    },
    {
      "cell_type": "code",
      "source": [
        "arr1 = [ [1,2,3] ,\n",
        "         [4,5,6] ,\n",
        "         [7,8,9] ]\n",
        "\n",
        "arr2 = [ [10,11,12] ,\n",
        "         [14,15,16] ,\n",
        "         [17,18,19]]\n",
        "\n",
        "arr3 = np.hstack((arr2,arr1))\n",
        "print(arr3)\n",
        "print(\"======\")\n",
        "arr5 = np.hsplit(arr3,3)\n",
        "print(arr5)\n",
        "print(\"======\")\n",
        "arr4 = np.vstack((arr2,arr1))\n",
        "print(arr4)\n",
        "print(\"======\")\n",
        "arr6 = np.hsplit(arr4,3)\n",
        "print(arr6)\n",
        "print(\"======\")\n"
      ],
      "metadata": {
        "colab": {
          "base_uri": "https://localhost:8080/"
        },
        "id": "73Ji-omLqPyj",
        "outputId": "cdd0e78e-e307-4895-8ac5-ba467ce44169"
      },
      "execution_count": 79,
      "outputs": [
        {
          "output_type": "stream",
          "name": "stdout",
          "text": [
            "[[10 11 12  1  2  3]\n",
            " [14 15 16  4  5  6]\n",
            " [17 18 19  7  8  9]]\n",
            "======\n",
            "[array([[10, 11],\n",
            "       [14, 15],\n",
            "       [17, 18]]), array([[12,  1],\n",
            "       [16,  4],\n",
            "       [19,  7]]), array([[2, 3],\n",
            "       [5, 6],\n",
            "       [8, 9]])]\n",
            "======\n",
            "[[10 11 12]\n",
            " [14 15 16]\n",
            " [17 18 19]\n",
            " [ 1  2  3]\n",
            " [ 4  5  6]\n",
            " [ 7  8  9]]\n",
            "======\n",
            "[array([[10],\n",
            "       [14],\n",
            "       [17],\n",
            "       [ 1],\n",
            "       [ 4],\n",
            "       [ 7]]), array([[11],\n",
            "       [15],\n",
            "       [18],\n",
            "       [ 2],\n",
            "       [ 5],\n",
            "       [ 8]]), array([[12],\n",
            "       [16],\n",
            "       [19],\n",
            "       [ 3],\n",
            "       [ 6],\n",
            "       [ 9]])]\n",
            "======\n"
          ]
        }
      ]
    },
    {
      "cell_type": "code",
      "source": [
        "arr1 = [[1,2,3] , [4,5,6] , [7,8,9]]\n",
        "arr2 = [[10,11,12] , [14,15,16] , [17,18,19]]\n",
        "aar3 = np.concatenate((arr1,arr2),axis=1)\n",
        "print(arr3)\n",
        "arr4 = np.concatenate((arr1,arr2),axis=0)\n",
        "print(arr4)"
      ],
      "metadata": {
        "colab": {
          "base_uri": "https://localhost:8080/"
        },
        "id": "fJbUFQoLroO7",
        "outputId": "8ac2e4c1-de7d-4df8-8c54-9e9219cc00bb"
      },
      "execution_count": 75,
      "outputs": [
        {
          "output_type": "stream",
          "name": "stdout",
          "text": [
            "[[10 11 12  1  2  3]\n",
            " [14 15 16  4  5  6]\n",
            " [17 18 19  7  8  9]]\n",
            "[[ 1  2  3]\n",
            " [ 4  5  6]\n",
            " [ 7  8  9]\n",
            " [10 11 12]\n",
            " [14 15 16]\n",
            " [17 18 19]]\n"
          ]
        }
      ]
    },
    {
      "cell_type": "code",
      "source": [
        "import numpy as np\n",
        "str_arr = np.array(['a','b','c','d'])\n",
        "str_arr[2] == 'c'"
      ],
      "metadata": {
        "colab": {
          "base_uri": "https://localhost:8080/"
        },
        "id": "04-dqh-JDZgV",
        "outputId": "da463d00-d897-405b-fc23-67679f74bd0b"
      },
      "execution_count": 14,
      "outputs": [
        {
          "output_type": "execute_result",
          "data": {
            "text/plain": [
              "True"
            ]
          },
          "metadata": {},
          "execution_count": 14
        }
      ]
    },
    {
      "cell_type": "code",
      "source": [
        "print(str_arr[str_arr == 'c'])"
      ],
      "metadata": {
        "colab": {
          "base_uri": "https://localhost:8080/"
        },
        "id": "FxQNvT4VECPw",
        "outputId": "1614cb1e-cb23-47ad-f430-558e09ae22c6"
      },
      "execution_count": 12,
      "outputs": [
        {
          "output_type": "stream",
          "name": "stdout",
          "text": [
            "['c']\n"
          ]
        }
      ]
    },
    {
      "cell_type": "code",
      "source": [
        "lst = [4,8,12,16,20]\n",
        "print(np.array(lst) + 2)"
      ],
      "metadata": {
        "colab": {
          "base_uri": "https://localhost:8080/"
        },
        "id": "5SUswzw1HBo-",
        "outputId": "ec873c83-8656-44f5-a505-b4bb46fa9042"
      },
      "execution_count": 18,
      "outputs": [
        {
          "output_type": "stream",
          "name": "stdout",
          "text": [
            "[ 6 10 14 18 22]\n"
          ]
        }
      ]
    },
    {
      "cell_type": "code",
      "source": [
        "import numpy as np\n",
        "np.linspace((1,2,3),(10,20,30),4 , dtype = np.int8)\n"
      ],
      "metadata": {
        "colab": {
          "base_uri": "https://localhost:8080/"
        },
        "id": "8AnYLvv_gX9P",
        "outputId": "191b5272-f141-4a5c-9696-c3601a760ac6"
      },
      "execution_count": 29,
      "outputs": [
        {
          "output_type": "execute_result",
          "data": {
            "text/plain": [
              "array([[ 1,  2,  3],\n",
              "       [ 4,  8, 12],\n",
              "       [ 7, 14, 21],\n",
              "       [10, 20, 30]], dtype=int8)"
            ]
          },
          "metadata": {},
          "execution_count": 29
        }
      ]
    },
    {
      "cell_type": "code",
      "source": [
        "np.arange(3*4*5).reshape(3,4,5)"
      ],
      "metadata": {
        "colab": {
          "base_uri": "https://localhost:8080/"
        },
        "id": "OXjznRrQt84G",
        "outputId": "027c7f0d-b8a4-43d9-d9df-f9c83c47f7a1"
      },
      "execution_count": 42,
      "outputs": [
        {
          "output_type": "execute_result",
          "data": {
            "text/plain": [
              "array([[[ 0,  1,  2,  3,  4],\n",
              "        [ 5,  6,  7,  8,  9],\n",
              "        [10, 11, 12, 13, 14],\n",
              "        [15, 16, 17, 18, 19]],\n",
              "\n",
              "       [[20, 21, 22, 23, 24],\n",
              "        [25, 26, 27, 28, 29],\n",
              "        [30, 31, 32, 33, 34],\n",
              "        [35, 36, 37, 38, 39]],\n",
              "\n",
              "       [[40, 41, 42, 43, 44],\n",
              "        [45, 46, 47, 48, 49],\n",
              "        [50, 51, 52, 53, 54],\n",
              "        [55, 56, 57, 58, 59]]])"
            ]
          },
          "metadata": {},
          "execution_count": 42
        }
      ]
    },
    {
      "cell_type": "code",
      "source": [
        "firts_arr = np.arange(1,11)\n",
        "second_arr = np.arange(11,21)\n",
        "print(\"first arr is , \" , firts_arr)\n",
        "print(\"second arr is , \" , second_arr)"
      ],
      "metadata": {
        "colab": {
          "base_uri": "https://localhost:8080/"
        },
        "id": "4s-y35XExz2A",
        "outputId": "670f8158-e35f-4390-8b9e-43cf8d2939a8"
      },
      "execution_count": 63,
      "outputs": [
        {
          "output_type": "stream",
          "name": "stdout",
          "text": [
            "first arr is ,  [ 1  2  3  4  5  6  7  8  9 10]\n",
            "second arr is ,  [11 12 13 14 15 16 17 18 19 20]\n"
          ]
        }
      ]
    },
    {
      "cell_type": "code",
      "source": [
        "con_arr = np.concatenate((firts_arr,second_arr),axis=0)\n",
        "print(con_arr)\n"
      ],
      "metadata": {
        "colab": {
          "base_uri": "https://localhost:8080/"
        },
        "id": "uJvyWIcVyK2q",
        "outputId": "078ad089-0c23-4e7e-f3a4-f2401f16a3d0"
      },
      "execution_count": 74,
      "outputs": [
        {
          "output_type": "stream",
          "name": "stdout",
          "text": [
            "[ 1  2  3  4  5  6  7  8  9 10 11 12 13 14 15 16 17 18 19 20]\n"
          ]
        }
      ]
    },
    {
      "cell_type": "code",
      "source": [
        "np.concatenate((firts_arr,second_arr) , axis=0)"
      ],
      "metadata": {
        "colab": {
          "base_uri": "https://localhost:8080/"
        },
        "id": "A4d3Pp1V1XFu",
        "outputId": "88c9aa11-46a5-4ea7-ef61-057af1aee8eb"
      },
      "execution_count": 62,
      "outputs": [
        {
          "output_type": "execute_result",
          "data": {
            "text/plain": [
              "array([ 1,  2,  3,  4,  5,  6,  7,  8,  9, 10, 11, 12, 13, 14, 15, 16, 17,\n",
              "       18, 19, 20])"
            ]
          },
          "metadata": {},
          "execution_count": 62
        }
      ]
    },
    {
      "cell_type": "code",
      "source": [
        "third_arr = np.array( [ [1,2,3,4] , [5,6,7,8] ])\n",
        "fourth_arr = np.array( [ [11,12,13,14] , [15,16,17,18] ])\n",
        "print(\"third_arr is , \" , third_arr)\n",
        "print(\"fourth_arr is , \" , fourth_arr)\n",
        "\n",
        "fifth_con_arr = np.concatenate((third_arr,fourth_arr),axis=1)\n",
        "print(\"fifth_con_arr is , \" , fifth_con_arr)\n",
        "\n",
        "print(\"dim fifth_con_arr is , \" , fifth_con_arr.shape)\n",
        "\n",
        "sixth_con_arr = np.concatenate((third_arr,fourth_arr),axis=0)\n",
        "print(\"sixth_con_arr is , \" , sixth_con_arr)\n",
        "print(\"dim sixth_con_arr is , \" , sixth_con_arr.shape)\n"
      ],
      "metadata": {
        "colab": {
          "base_uri": "https://localhost:8080/"
        },
        "id": "l5ktTeJFyeJ8",
        "outputId": "69c44b7d-8483-4414-8ea1-1eddd1ee76f2"
      },
      "execution_count": 64,
      "outputs": [
        {
          "output_type": "stream",
          "name": "stdout",
          "text": [
            "third_arr is ,  [[1 2 3 4]\n",
            " [5 6 7 8]]\n",
            "fourth_arr is ,  [[11 12 13 14]\n",
            " [15 16 17 18]]\n",
            "fifth_con_arr is ,  [[ 1  2  3  4 11 12 13 14]\n",
            " [ 5  6  7  8 15 16 17 18]]\n",
            "dim fifth_con_arr is ,  (2, 8)\n",
            "sixth_con_arr is ,  [[ 1  2  3  4]\n",
            " [ 5  6  7  8]\n",
            " [11 12 13 14]\n",
            " [15 16 17 18]]\n",
            "dim sixth_con_arr is ,  (4, 4)\n"
          ]
        }
      ]
    },
    {
      "cell_type": "code",
      "source": [
        "firts_arr = np.arange(1,11)\n",
        "print(firts_arr)\n",
        "firts_arr[2::3]\n",
        "print(firts_arr.size)"
      ],
      "metadata": {
        "colab": {
          "base_uri": "https://localhost:8080/"
        },
        "id": "HIxmnmK86CJk",
        "outputId": "1933e702-74fc-43eb-93c5-53146de9c10d"
      },
      "execution_count": 80,
      "outputs": [
        {
          "output_type": "stream",
          "name": "stdout",
          "text": [
            "[ 1  2  3  4  5  6  7  8  9 10]\n",
            "10\n",
            "[ 1  2  3  4  5  6  7  8  9 10]\n"
          ]
        }
      ]
    },
    {
      "cell_type": "code",
      "source": [
        "firts_arr = np.arange(6).reshape(2,3)\n",
        "print(firts_arr)\n",
        "print(np.transpose(firts_arr) )\n",
        "print(np.transpose(firts_arr) , (1,0))\n"
      ],
      "metadata": {
        "colab": {
          "base_uri": "https://localhost:8080/"
        },
        "id": "56fs0zA5WCBV",
        "outputId": "9858f9b1-0148-4f5b-a87c-bdd9fad67904"
      },
      "execution_count": 88,
      "outputs": [
        {
          "output_type": "stream",
          "name": "stdout",
          "text": [
            "[[0 1 2]\n",
            " [3 4 5]]\n",
            "[[0 3]\n",
            " [1 4]\n",
            " [2 5]]\n",
            "[[0 3]\n",
            " [1 4]\n",
            " [2 5]] (1, 0)\n"
          ]
        }
      ]
    },
    {
      "cell_type": "code",
      "source": [
        "third_arr = np.array( [ [1,2,3,4] , [4,5,3,1] ])\n",
        "fourth_arr = np.array( [ [11,12,13,14] , [12,13,11,18] ])\n",
        "print(third_arr)"
      ],
      "metadata": {
        "colab": {
          "base_uri": "https://localhost:8080/"
        },
        "id": "WDXuBhA7Qgpx",
        "outputId": "31cb0bf4-f2d9-4f80-b0ce-3b678c470a4e"
      },
      "execution_count": 79,
      "outputs": [
        {
          "output_type": "stream",
          "name": "stdout",
          "text": [
            "[[1 2 3 4]\n",
            " [4 5 3 1]]\n"
          ]
        }
      ]
    },
    {
      "cell_type": "code",
      "source": [
        "arr1 = np.array([2,4,6,8,10])\n",
        "arr1.prod()\n"
      ],
      "metadata": {
        "colab": {
          "base_uri": "https://localhost:8080/"
        },
        "id": "MWKD99GfZ58i",
        "outputId": "c9d26576-adbb-4f6b-ac56-66ea67d3ae84"
      },
      "execution_count": 91,
      "outputs": [
        {
          "output_type": "execute_result",
          "data": {
            "text/plain": [
              "3840"
            ]
          },
          "metadata": {},
          "execution_count": 91
        }
      ]
    }
  ]
}